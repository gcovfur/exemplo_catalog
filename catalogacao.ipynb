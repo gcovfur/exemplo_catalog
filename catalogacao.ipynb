{
 "cells": [
  {
   "cell_type": "code",
   "execution_count": 3,
   "metadata": {},
   "outputs": [],
   "source": [
    "# Import de bibliotecas\n",
    "import csv, ast, psycopg2\n",
    "import pandas as pd\n",
    "from datetime import datetime as dt\n",
    "import numpy as np\n"
   ]
  },
  {
   "cell_type": "markdown",
   "metadata": {},
   "source": [
    "# Leitura de dados e criação de variáveis"
   ]
  },
  {
   "cell_type": "code",
   "execution_count": 4,
   "metadata": {},
   "outputs": [
    {
     "name": "stdout",
     "output_type": "stream",
     "text": [
      "NF                     string\n",
      "ID_PRODUTO             string\n",
      "QTD                    string\n",
      "VALOR                  string\n",
      "DESCONTO_PERCENTUAL    string\n",
      "DATA                   string\n",
      "ID_CLIENTE             string\n",
      "dtype: object\n"
     ]
    },
    {
     "data": {
      "text/html": [
       "<div>\n",
       "<style scoped>\n",
       "    .dataframe tbody tr th:only-of-type {\n",
       "        vertical-align: middle;\n",
       "    }\n",
       "\n",
       "    .dataframe tbody tr th {\n",
       "        vertical-align: top;\n",
       "    }\n",
       "\n",
       "    .dataframe thead th {\n",
       "        text-align: right;\n",
       "    }\n",
       "</style>\n",
       "<table border=\"1\" class=\"dataframe\">\n",
       "  <thead>\n",
       "    <tr style=\"text-align: right;\">\n",
       "      <th></th>\n",
       "      <th>NF</th>\n",
       "      <th>ID_PRODUTO</th>\n",
       "      <th>QTD</th>\n",
       "      <th>VALOR</th>\n",
       "      <th>DESCONTO_PERCENTUAL</th>\n",
       "      <th>DATA</th>\n",
       "      <th>ID_CLIENTE</th>\n",
       "    </tr>\n",
       "  </thead>\n",
       "  <tbody>\n",
       "    <tr>\n",
       "      <th>0</th>\n",
       "      <td>01</td>\n",
       "      <td>01</td>\n",
       "      <td>9</td>\n",
       "      <td>4.4</td>\n",
       "      <td>2</td>\n",
       "      <td>2022-01-14 00:00:00</td>\n",
       "      <td>01</td>\n",
       "    </tr>\n",
       "    <tr>\n",
       "      <th>1</th>\n",
       "      <td>02</td>\n",
       "      <td>01</td>\n",
       "      <td>2</td>\n",
       "      <td>4.5</td>\n",
       "      <td>3</td>\n",
       "      <td>2022-01-22 00:00:00</td>\n",
       "      <td>03</td>\n",
       "    </tr>\n",
       "    <tr>\n",
       "      <th>2</th>\n",
       "      <td>03</td>\n",
       "      <td>01</td>\n",
       "      <td>3</td>\n",
       "      <td>4.4</td>\n",
       "      <td>1</td>\n",
       "      <td>2022-01-14 00:00:00</td>\n",
       "      <td>03</td>\n",
       "    </tr>\n",
       "    <tr>\n",
       "      <th>3</th>\n",
       "      <td>04</td>\n",
       "      <td>02</td>\n",
       "      <td>6</td>\n",
       "      <td>64.12</td>\n",
       "      <td>5</td>\n",
       "      <td>2022-01-21 00:00:00</td>\n",
       "      <td>03</td>\n",
       "    </tr>\n",
       "    <tr>\n",
       "      <th>4</th>\n",
       "      <td>05</td>\n",
       "      <td>02</td>\n",
       "      <td>5</td>\n",
       "      <td>64.1</td>\n",
       "      <td>0</td>\n",
       "      <td>2022-01-14 00:00:00</td>\n",
       "      <td>03</td>\n",
       "    </tr>\n",
       "  </tbody>\n",
       "</table>\n",
       "</div>"
      ],
      "text/plain": [
       "   NF ID_PRODUTO QTD  VALOR DESCONTO_PERCENTUAL                 DATA  \\\n",
       "0  01         01   9    4.4                   2  2022-01-14 00:00:00   \n",
       "1  02         01   2    4.5                   3  2022-01-22 00:00:00   \n",
       "2  03         01   3    4.4                   1  2022-01-14 00:00:00   \n",
       "3  04         02   6  64.12                   5  2022-01-21 00:00:00   \n",
       "4  05         02   5   64.1                   0  2022-01-14 00:00:00   \n",
       "\n",
       "  ID_CLIENTE  \n",
       "0         01  \n",
       "1         03  \n",
       "2         03  \n",
       "3         03  \n",
       "4         03  "
      ]
     },
     "execution_count": 4,
     "metadata": {},
     "output_type": "execute_result"
    }
   ],
   "source": [
    "# Lê dados de excel para dataframe\n",
    "reader = pd.read_excel('BD.xlsx',dtype=\"string\", engine='openpyxl')\n",
    "# Confirma se todas as colunas foram importadas como string\n",
    "print(reader.dtypes)\n",
    "\n",
    "# Cria variáveis para armazenar cabeçalhos, tipos e tamanhos\n",
    "longest, headers, type_list = [], [], []\n",
    "# Cria variável com o nome da tabela que será criada\n",
    "table_name = 'XPTO'\n",
    "# Imprime amostra de dados do arquivo na tela\n",
    "reader.head()"
   ]
  },
  {
   "cell_type": "markdown",
   "metadata": {},
   "source": [
    "# Método para definição dos tipos e tamanhos das variáveis do arquivo"
   ]
  },
  {
   "cell_type": "code",
   "execution_count": 5,
   "metadata": {},
   "outputs": [],
   "source": [
    "# Define função para análise dos tipos das colunas\n",
    "# val representa o valor do campo e current_type o tipo do dado até o presente momento da análise\n",
    "def dataType(val, current_type):\n",
    "    # A primeira checagem consiste na verificação do tipo data (O algoritmo criado só trabalha com data completa)\n",
    "    try:\n",
    "        format = \"%Y-%m-%d %H:%M:%S\"\n",
    "        date = dt.strptime(val, format)\n",
    "        return 'timestamp'\n",
    "    except:\n",
    "        try:\n",
    "            # A segunda checagem avalia números para o tipo apropriado\n",
    "            t = ast.literal_eval(val)\n",
    "        # Um erro na segunda checagem atribui o tipo varchar    \n",
    "        except ValueError:\n",
    "            return 'varchar'\n",
    "        except SyntaxError:\n",
    "            return 'varchar'\n",
    "        # Caso a função não seja retornada por um try-catch\n",
    "        # Se o tipo estiver entre int, long ou float    \n",
    "        if type(t) in [int, 'long', float]:\n",
    "            # Caso o tipo seja long ou int\n",
    "            if (type(t) in [int, 'long']) and current_type not in ['float', 'varchar']:\n",
    "                # Caso o tamanho da variável do tipo string for maior do que o tamanho da mesma variável convertida para inteiro\n",
    "                # atribui o tipo varchar, como identificadores de variáveis e CPFs iniciados com 0\n",
    "                if len(val[0]) > len(str(int(val))):\n",
    "                    return 'varchar'\n",
    "                # Caso contrário, atribui o menor valor possível como tipo (smallint, int ou bigint)\n",
    "                elif (-32768 < t < 32767) and current_type not in ['int', 'bigint']:\n",
    "                    return 'smallint'\n",
    "                elif (-2147483648 < t < 2147483647) and current_type not in ['bigint']:\n",
    "                    return 'int'\n",
    "                else:\n",
    "                    return 'bigint'\n",
    "            # Valida o tamanho do varchar\n",
    "            if type(t) is float and current_type not in ['varchar']:\n",
    "                return 'decimal'\n",
    "        # Se não estiver entre int, long ou float atribui varchar            \n",
    "        else:\n",
    "            return 'varchar'"
   ]
  },
  {
   "cell_type": "markdown",
   "metadata": {},
   "source": [
    "# Avaliação linha a linha dos tipos de colunas do arquivo"
   ]
  },
  {
   "cell_type": "code",
   "execution_count": 6,
   "metadata": {},
   "outputs": [],
   "source": [
    "# Para cada linha nos dados lidos\n",
    "for x in range(len(reader)):\n",
    "    # Captura apenas a linha em questão\n",
    "    row = list(reader.iloc[x])\n",
    "    # Se ainda não houver ocorrido a análise do cabeçalho (tamanho de headers == 0)\n",
    "    if len(headers) == 0:\n",
    "        # headers = linha atual\n",
    "        headers = reader.columns\n",
    "        # para todas as colunas na linha, o tamanho recebe 0 e o tipo recebe ''\n",
    "        for col in headers:\n",
    "            longest.append(0)\n",
    "            type_list.append('')\n",
    "    # Para cada coluna na linha\n",
    "    for i in range(len(row)):\n",
    "        # Caso já tenha sido definido como varchar, timestamp ou possua valor NA, nada é feito\n",
    "        # NA é referente ao valor null no csv\n",
    "        if type_list[i] == 'varchar' or str(row[i]) == 'NA' or type_list[i] == 'timestamp':\n",
    "            pass\n",
    "        # Caso contrário\n",
    "        else:\n",
    "            # Chama função para determinar tipos das colunas\n",
    "            type_list[i] = dataType(str(row[i]), type_list[i])\n",
    "        # Atribui tamanhos para as variáveis\n",
    "        if len(str(row[i])) > longest[i]:\n",
    "            longest[i] = len(str(row[i]))"
   ]
  },
  {
   "cell_type": "markdown",
   "metadata": {},
   "source": [
    "# Geração do script sql para criação de tabela"
   ]
  },
  {
   "cell_type": "code",
   "execution_count": 7,
   "metadata": {},
   "outputs": [
    {
     "name": "stdout",
     "output_type": "stream",
     "text": [
      "create table XPTO(\n",
      "\tnf varchar(2),\n",
      "\tid_produto varchar(2),\n",
      "\tqtd smallint,\n",
      "\tvalor decimal,\n",
      "\tdesconto_percentual smallint,\n",
      "\tdata timestamp,\n",
      "\tid_cliente varchar(2)\n",
      ");\n"
     ]
    }
   ],
   "source": [
    "# Cria variável para armazenar o codigo de criação da tabela\n",
    "statement = 'create table ' + table_name + '('\n",
    "\n",
    "# Escreve o nome e tipo variável por variável no código\n",
    "for i in range(len(headers)):\n",
    "    if type_list[i] == 'varchar':\n",
    "        statement = (statement + '\\n\\t{} varchar({}),').format(headers[i].lower(), str(longest[i]))\n",
    "    else:\n",
    "        statement = (statement + '\\n\\t' + '{} {}' + ',').format(headers[i].lower(), type_list[i])\n",
    "# Finaliza código com fechamento de parêntesis e ponto e vírgula\n",
    "statement = statement[:-1] + '\\n);'\n",
    "# Imprime o código gerado\n",
    "print(statement)"
   ]
  }
 ],
 "metadata": {
  "kernelspec": {
   "display_name": "Python 3.9.13 ('catalog')",
   "language": "python",
   "name": "python3"
  },
  "language_info": {
   "codemirror_mode": {
    "name": "ipython",
    "version": 3
   },
   "file_extension": ".py",
   "mimetype": "text/x-python",
   "name": "python",
   "nbconvert_exporter": "python",
   "pygments_lexer": "ipython3",
   "version": "3.9.13"
  },
  "orig_nbformat": 4,
  "vscode": {
   "interpreter": {
    "hash": "28839648584b0b4011640e7424e1a395333031f3586bc7551bd8e18be78424e6"
   }
  }
 },
 "nbformat": 4,
 "nbformat_minor": 2
}
